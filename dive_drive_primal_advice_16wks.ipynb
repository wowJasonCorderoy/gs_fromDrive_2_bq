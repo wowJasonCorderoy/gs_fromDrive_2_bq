{
  "nbformat": 4,
  "nbformat_minor": 0,
  "metadata": {
    "colab": {
      "name": "dive_drive_primal_advice_16wks.ipynb",
      "provenance": [],
      "collapsed_sections": []
    },
    "kernelspec": {
      "name": "python3",
      "display_name": "Python 3"
    },
    "language_info": {
      "name": "python"
    }
  },
  "cells": [
    {
      "cell_type": "markdown",
      "source": [
        "# Script that copies demand excel files from gdrive into bq tables"
      ],
      "metadata": {
        "id": "YJOVzc0eUe2g"
      }
    },
    {
      "cell_type": "markdown",
      "source": [
        "### imports and auth"
      ],
      "metadata": {
        "id": "hAP_5EIOUs04"
      }
    },
    {
      "cell_type": "code",
      "source": [
        "!pip install -U -q PyDrive\n",
        "import os\n",
        "from pydrive.auth import GoogleAuth\n",
        "from pydrive.drive import GoogleDrive\n",
        "from google.colab import auth\n",
        "from oauth2client.client import GoogleCredentials\n",
        "import pandas as pd\n",
        "import numpy as np\n",
        "import re\n",
        "# from google.colab import auth\n",
        "# auth.authenticate_user()\n",
        "# print('Authenticated')\n",
        "\n",
        "# from google.colab import drive\n",
        "# drive.mount('/content/drive')"
      ],
      "metadata": {
        "id": "5m1CrQv3UqQq"
      },
      "execution_count": null,
      "outputs": []
    },
    {
      "cell_type": "markdown",
      "source": [
        "### Declare Variables"
      ],
      "metadata": {
        "id": "2Lm-06W-UcVf"
      }
    },
    {
      "cell_type": "code",
      "source": [
        "params = {\n",
        "    'gdrive_folder_id' : '15JayKFd0LHqALJJ46MpcUyjWXNdS8pZB', # Toro templates drive folder\n",
        "    'local_download_path' : '/content/data', # the path to download the gdrive data to e.g. '/content/data'\n",
        "    'sheet_names' : ['HW','TRUG','BUN'], # These are the sheet names for each spreadsheet to read in as pandas dataframe\n",
        "}"
      ],
      "metadata": {
        "id": "r_tVie55SdQi"
      },
      "execution_count": null,
      "outputs": []
    },
    {
      "cell_type": "markdown",
      "source": [
        "### Get data from gdrive"
      ],
      "metadata": {
        "id": "U-gsqNo1WETj"
      }
    },
    {
      "cell_type": "code",
      "source": [
        "# 1. Authenticate and create the PyDrive client.\n",
        "auth.authenticate_user()\n",
        "gauth = GoogleAuth()\n",
        "gauth.credentials = GoogleCredentials.get_application_default()\n",
        "drive = GoogleDrive(gauth)\n",
        "\n",
        "# choose a local (colab) directory to store the data.\n",
        "local_download_path = os.path.expanduser(params['local_download_path'])\n",
        "try:\n",
        "  os.makedirs(local_download_path)\n",
        "except: pass\n"
      ],
      "metadata": {
        "id": "P5y_Y2phQmtd"
      },
      "execution_count": null,
      "outputs": []
    },
    {
      "cell_type": "markdown",
      "source": [
        "### Get file ID's to download >year>mth>wk>demand planning folder>file"
      ],
      "metadata": {
        "id": "u6mUc-msSFqt"
      }
    },
    {
      "cell_type": "code",
      "source": [
        "def get_drive_folder_content(drive_id):\n",
        "  return drive.ListFile({'q': f\"'{drive_id}' in parents\"}).GetList()\n",
        "\n",
        "def get_match_id(drive_id, regex='.*'):\n",
        "  import re\n",
        "  l = []\n",
        "  drive_list = get_drive_folder_content(drive_id=drive_id)\n",
        "  for d in drive_list:\n",
        "    d_match = re.match(regex, d['title'])\n",
        "    if d_match:\n",
        "      l.append(d['id'])\n",
        "  return l\n",
        "\n",
        "def get_match_title(drive_id, regex='.*'):\n",
        "  import re\n",
        "  l = []\n",
        "  drive_list = get_drive_folder_content(drive_id=drive_id)\n",
        "  for d in drive_list:\n",
        "    d_match = re.match(regex, d['title'])\n",
        "    if d_match:\n",
        "      l.append(d['title'])\n",
        "  return l\n"
      ],
      "metadata": {
        "id": "0rbDrFAXENTf"
      },
      "execution_count": null,
      "outputs": []
    },
    {
      "cell_type": "code",
      "source": [
        "year_match = get_match_id(drive_id=params['gdrive_folder_id'], regex='^2021$|^2022$|^2023$')\n",
        "month_match = []\n",
        "for x in year_match:\n",
        "  month_match.append(get_match_id(drive_id=x, regex='.*'))\n",
        "\n",
        "week_match = []\n",
        "for x in month_match:\n",
        "  for iv in x:\n",
        "    week_match.append(get_match_id(drive_id=iv, regex='.*'))\n",
        "\n",
        "demandPlanning_folders = []\n",
        "for x in week_match:\n",
        "  for iv in x:\n",
        "    demandPlanning_folders.append(get_match_id(drive_id=iv, regex='^Demand Planning$'))\n",
        "\n",
        "files_2_dl = []\n",
        "files_2_dl_fnames = []\n",
        "for x in demandPlanning_folders:\n",
        "  for iv in x:\n",
        "    files_2_dl.append(get_match_id(drive_id=iv, regex='^16 week Primal Advice [0-9]{2}-[0-9]{2}-[0-9]{4} .*xlsx$'))\n",
        "    files_2_dl_fnames.append(get_match_title(drive_id=iv, regex='^16 week Primal Advice [0-9]{2}-[0-9]{2}-[0-9]{4} .*xlsx$'))\n",
        "\n",
        "flatten_files_2_dl = [item for sublist in files_2_dl for item in sublist]\n",
        "flatten_files_2_dl_fnames = [item for sublist in files_2_dl_fnames for item in sublist]\n",
        "\n",
        "for t,i in zip(flatten_files_2_dl_fnames,flatten_files_2_dl):\n",
        "  # 3. Create & download by id.\n",
        "  print('title: %s, id: %s' % (t, i))\n",
        "  fname = os.path.join(local_download_path, t)\n",
        "  print('downloading to {}'.format(fname))\n",
        "  f_ = drive.CreateFile({'id': i})\n",
        "  f_.GetContentFile(fname)"
      ],
      "metadata": {
        "id": "ujCgp7JsL7LS",
        "colab": {
          "base_uri": "https://localhost:8080/"
        },
        "outputId": "c6e86178-733d-4494-c179-be43ce6fea8c"
      },
      "execution_count": null,
      "outputs": [
        {
          "output_type": "stream",
          "name": "stdout",
          "text": [
            "title: 16 week Primal Advice 23-03-2022 with unlimited capasity (1).xlsx, id: 124L6-z3h5POWb_9BBUDfnq03eWriTzu_\n",
            "downloading to /content/data/16 week Primal Advice 23-03-2022 with unlimited capasity (1).xlsx\n",
            "title: 16 week Primal Advice 19-03-2022 with unlimited capasity.xlsx, id: 1JRlQaA8bRS7AVKeka7zm0XHfjKS5kUcO\n",
            "downloading to /content/data/16 week Primal Advice 19-03-2022 with unlimited capasity.xlsx\n",
            "title: 16 week Primal Advice 11-03-2022 with unlimited capasity.xlsx, id: 13GqSHqBocAwC4QjFodrwuwitUpFTFoWd\n",
            "downloading to /content/data/16 week Primal Advice 11-03-2022 with unlimited capasity.xlsx\n",
            "title: 16 week Primal Advice 03-03-2022 with unlimited capasity.xlsx, id: 1H5y7_MNMn_nvRmdJL99_QrK0ZhbyAD8J\n",
            "downloading to /content/data/16 week Primal Advice 03-03-2022 with unlimited capasity.xlsx\n",
            "title: 16 week Primal Advice 25-02-2022 with unlimited capasity.xlsx, id: 1fIwcU8fy5AqWUzHgVu8sUfC7ksGMiJCD\n",
            "downloading to /content/data/16 week Primal Advice 25-02-2022 with unlimited capasity.xlsx\n",
            "title: 16 week Primal Advice 18-02-2022 with unlimited capasity.xlsx, id: 11C2SgjNekDoJy8eWj_ZtJdnzoTb0AKmD\n",
            "downloading to /content/data/16 week Primal Advice 18-02-2022 with unlimited capasity.xlsx\n",
            "title: 16 week Primal Advice 11-02-2022 with unlimited capasity.xlsx, id: 1zL8XQkU_yud7nBOzA7S5N1p5Qi3zSjUO\n",
            "downloading to /content/data/16 week Primal Advice 11-02-2022 with unlimited capasity.xlsx\n",
            "title: 16 week Primal Advice 04-02-2022 with unlimited capasity.xlsx, id: 1jXGgeUuNKcAc-Bc4Xxo4xkhTqzXXUdOS\n",
            "downloading to /content/data/16 week Primal Advice 04-02-2022 with unlimited capasity.xlsx\n",
            "title: 16 week Primal Advice 28-01-2022 with unlimited capasity.xlsx, id: 136_F0XYjo9vNXRviQ7gDurLmwwbJ30Rd\n",
            "downloading to /content/data/16 week Primal Advice 28-01-2022 with unlimited capasity.xlsx\n",
            "title: 16 week Primal Advice 21-01-2022 with unlimited capasity.xlsx, id: 1MVC7foVFvhJ8MBJgmvbXsFl76Le0dku9\n",
            "downloading to /content/data/16 week Primal Advice 21-01-2022 with unlimited capasity.xlsx\n",
            "title: 16 week Primal Advice 13-01-2022 with unlimited capasity.xlsx, id: 1fHbNxPTJwP53XJ4NEKDgAdPz6rEpFUmW\n",
            "downloading to /content/data/16 week Primal Advice 13-01-2022 with unlimited capasity.xlsx\n",
            "title: 16 week Primal Advice 10-01-2022 with unlimited capasity.xlsx, id: 1Ctx-WIl9Oxe-Ykrx6bL3iSr9lw1LUoRH\n",
            "downloading to /content/data/16 week Primal Advice 10-01-2022 with unlimited capasity.xlsx\n",
            "title: 16 week Primal Advice 17-12-2021 with unlimited capasity.xlsx, id: 12ULbZ49IVNNZnYhH3MsqcN1IHkJMjc1z\n",
            "downloading to /content/data/16 week Primal Advice 17-12-2021 with unlimited capasity.xlsx\n",
            "title: 16 week Primal Advice 22-12-2021 with unlimited capasity.xlsx, id: 1raZX9komHUKSe0Yn7fSzVGjNrv2NfKTz\n",
            "downloading to /content/data/16 week Primal Advice 22-12-2021 with unlimited capasity.xlsx\n",
            "title: 16 week Primal Advice 09-12-2021 with unlimited capasity.xlsx, id: 1DavxHyC2kEjDbCb_jlv7uJGafzKabHZF\n",
            "downloading to /content/data/16 week Primal Advice 09-12-2021 with unlimited capasity.xlsx\n",
            "title: 16 week Primal Advice 02-12-2021 with unlimited capasity.xlsx, id: 1_D5bgWZQkCGv7H6BsuO4qe6_fxzOzYiw\n",
            "downloading to /content/data/16 week Primal Advice 02-12-2021 with unlimited capasity.xlsx\n",
            "title: 16 week Primal Advice 26-11-2021 with unlimited capasity.xlsx, id: 1gdiO-sUBnCzhQM4wvBwNs-RGjv-iUroV\n",
            "downloading to /content/data/16 week Primal Advice 26-11-2021 with unlimited capasity.xlsx\n",
            "title: 16 week Primal Advice 22-11-2021 with unlimited capasity.xlsx, id: 1L_HaZukCtwZHS1eTlEy1_QKMJ5zK1JfB\n",
            "downloading to /content/data/16 week Primal Advice 22-11-2021 with unlimited capasity.xlsx\n",
            "title: 16 week Primal Advice 11-11-2021 with unlimited capasity.xlsx, id: 1vVkBYNCgP4BSKUiT6OWBHp11LB3onyg2\n",
            "downloading to /content/data/16 week Primal Advice 11-11-2021 with unlimited capasity.xlsx\n",
            "title: 16 week Primal Advice 05-11-2021 with unlimited capasity.xlsx, id: 1BZ8VUTtE7lIf5pfrf8ZASWovWcx6_BA1\n",
            "downloading to /content/data/16 week Primal Advice 05-11-2021 with unlimited capasity.xlsx\n",
            "title: 16 week Primal Advice 22-10-2021 with unlimited capasity.xlsx, id: 1EYnoL4HmdzSYVK0F-ImKPrEzH5UE12Xk\n",
            "downloading to /content/data/16 week Primal Advice 22-10-2021 with unlimited capasity.xlsx\n",
            "title: 16 week Primal Advice 15-10-2021 with unlimited capasity.xlsx, id: 1nobvHF_MWOj2Ij0R06iFW9Hd3va_hLHs\n",
            "downloading to /content/data/16 week Primal Advice 15-10-2021 with unlimited capasity.xlsx\n",
            "title: 16 week Primal Advice 06-10-2021 with unlimited capasity (1).xlsx, id: 1OiFKDDajmKpon8jU4wCT4qhxd4mCzMTl\n",
            "downloading to /content/data/16 week Primal Advice 06-10-2021 with unlimited capasity (1).xlsx\n",
            "title: 16 week Primal Advice 29-09-2021 with unlimited capasity.xlsx, id: 1iZ-CkApIGEMytsTzNfWedu_lPQ5T1Bh3\n",
            "downloading to /content/data/16 week Primal Advice 29-09-2021 with unlimited capasity.xlsx\n",
            "title: 16 week Primal Advice 23-09-2021 with unlimited capasity.xlsx, id: 1HSmW_OskByhMq3PisA7-gWdNMRwDvwaM\n",
            "downloading to /content/data/16 week Primal Advice 23-09-2021 with unlimited capasity.xlsx\n",
            "title: 16 week Primal Advice 15-09-2021 with unlimited capasity.xlsx, id: 1BSF08ATRbvQFxEC5JlB2xuQ6dBJx78C4\n",
            "downloading to /content/data/16 week Primal Advice 15-09-2021 with unlimited capasity.xlsx\n",
            "title: 16 week Primal Advice 09-09-2021 with unlimited capasity.xlsx, id: 19RCQ7tmA6E9VljcRkXhuUdJvRPFX6912\n",
            "downloading to /content/data/16 week Primal Advice 09-09-2021 with unlimited capasity.xlsx\n",
            "title: 16 week Primal Advice 02-09-2021 with unlimited capasity.xlsx, id: 1Wob1uXz2xq28DesP6oNu2-uB-Ax6XKSg\n",
            "downloading to /content/data/16 week Primal Advice 02-09-2021 with unlimited capasity.xlsx\n",
            "title: 16 week Primal Advice 26-08-2021 with unlimited capasity.xlsx, id: 1o90eGoSTMarCPYOaC2HyVS-YFLpV39Bp\n",
            "downloading to /content/data/16 week Primal Advice 26-08-2021 with unlimited capasity.xlsx\n"
          ]
        }
      ]
    },
    {
      "cell_type": "markdown",
      "source": [
        "### from excel to pandas dataframes"
      ],
      "metadata": {
        "id": "CfXtPoqGWL9T"
      }
    },
    {
      "cell_type": "code",
      "source": [
        "df_dict = {}\n",
        "for f in os.listdir(params['local_download_path']):\n",
        "  f_path = params['local_download_path']+'/'+f\n",
        "  df_dict[f] = pd.read_excel(f_path, sheet_name=params['sheet_names'])\n"
      ],
      "metadata": {
        "id": "DfSLLtP7WPbH",
        "colab": {
          "base_uri": "https://localhost:8080/"
        },
        "outputId": "6395b14b-7767-4a6c-f034-c37e6c61bf01"
      },
      "execution_count": null,
      "outputs": [
        {
          "output_type": "stream",
          "name": "stderr",
          "text": [
            "/usr/local/lib/python3.7/dist-packages/openpyxl/worksheet/_reader.py:312: UserWarning: Unknown extension is not supported and will be removed\n",
            "  warn(msg)\n"
          ]
        }
      ]
    },
    {
      "cell_type": "markdown",
      "source": [
        "### Add columns to each dataframe"
      ],
      "metadata": {
        "id": "UIHyLEvzjUE6"
      }
    },
    {
      "cell_type": "code",
      "source": [
        "#df_dict['35 week Primal Advice 09-09-2021 with unlimited capasity.xlsx']#['HW']#.describe()\n",
        "# for each sheet of data in excel file (now dict of dataframes in dict where key = filename and subkey = sheetName)\n",
        "# add a column for sheet name e.g. HW, TRUG, BUN\n",
        "\n",
        "def get_dmy_from_filename(fn):\n",
        "  title_search = re.search('([0-9]{2})-([0-9]{2})-([0-9]{4})', fn, re.IGNORECASE)\n",
        "  if title_search:\n",
        "    return title_search.group(3)+'-'+title_search.group(2)+'-'+title_search.group(1)\n",
        "  else:\n",
        "    return ''\n",
        "\n",
        "for ss in df_dict.keys():\n",
        "  for sname in df_dict[ss].keys():\n",
        "    df_dict[ss][sname]['sheet_name'] = sname\n",
        "    df_dict[ss][sname]['source_date'] = get_dmy_from_filename(ss)\n",
        "    df_dict[ss][sname]['file_name'] = ss\n"
      ],
      "metadata": {
        "id": "L_KvQPRLWlsZ"
      },
      "execution_count": null,
      "outputs": []
    },
    {
      "cell_type": "markdown",
      "source": [
        "### make single dataframe"
      ],
      "metadata": {
        "id": "EUylcAymjXty"
      }
    },
    {
      "cell_type": "code",
      "source": [
        "def stack_df(dict_of_df):\n",
        "  return pd.concat(dict_of_df).reset_index().drop(columns=['level_0','level_1'])\n",
        "\n",
        "all_df = pd.concat([stack_df(df_dict[ss]) for ss in df_dict.keys()])"
      ],
      "metadata": {
        "id": "EnGA9XHTjbwW"
      },
      "execution_count": null,
      "outputs": []
    },
    {
      "cell_type": "markdown",
      "source": [
        "### clean column names"
      ],
      "metadata": {
        "id": "u481ZKcPopiB"
      }
    },
    {
      "cell_type": "code",
      "source": [
        "all_df.columns = all_df.columns.str.replace(' ','_', regex=False)\n",
        "all_df.columns = all_df.columns.str.replace('.','_', regex=False)"
      ],
      "metadata": {
        "id": "HD3Cx9iKov_Q"
      },
      "execution_count": null,
      "outputs": []
    },
    {
      "cell_type": "code",
      "source": [
        "all_df.columns"
      ],
      "metadata": {
        "id": "HEmp0okpr-X6",
        "colab": {
          "base_uri": "https://localhost:8080/"
        },
        "outputId": "34dbb0a5-4bb9-4490-e8ec-f4bd9a7c2a39"
      },
      "execution_count": null,
      "outputs": [
        {
          "output_type": "execute_result",
          "data": {
            "text/plain": [
              "Index(['Date', 'PrimalID', 'Family', 'PrimalName', 'Primal_kgs_for_production',\n",
              "       'Proposed_Purchases', 'Confirmed_Purchases', 'Low_Codes', 'Op_Stock',\n",
              "       'Unmature_stock', 'Butcher_shop_Rq_', 'WOW_code', 'Plant', 'sheet_name',\n",
              "       'source_date', 'file_name', 'StockInDays', 'PARENT', 'Target_inventory',\n",
              "       'TargetInDays'],\n",
              "      dtype='object')"
            ]
          },
          "metadata": {},
          "execution_count": 10
        }
      ]
    },
    {
      "cell_type": "markdown",
      "source": [
        "### reorder columns"
      ],
      "metadata": {
        "id": "OrGe01HuLCAZ"
      }
    },
    {
      "cell_type": "code",
      "source": [
        "# Stefan Petiq 20220214:\n",
        "# Everything exactly how it is except\n",
        "# Wow_code\n",
        "# Plant\n",
        "# Sheet_name\n",
        "# Source_date\n",
        "# file_name\n",
        "# moved to be the last 5 fields at the end of the sheet\n",
        "\n",
        "last_cols = ['WOW_code', 'Plant', 'sheet_name', 'source_date', 'file_name']\n",
        "new_col_order = [x for x in all_df.columns if x not in last_cols]+last_cols\n",
        "\n",
        "all_df = all_df[new_col_order]"
      ],
      "metadata": {
        "id": "uJKvKYgXLD0y"
      },
      "execution_count": null,
      "outputs": []
    },
    {
      "cell_type": "markdown",
      "source": [
        "### Delete unwanted sheet"
      ],
      "metadata": {
        "id": "-ErMwBeVLo3J"
      }
    },
    {
      "cell_type": "code",
      "source": [
        "# Delete 'week' from the \"35 week Primal Advice 10-01-2022 with unlimited capasity.xlsx\" file so it should not appear in the data loading anymore\n",
        "#all_df = all_df.query(\"file_name != '35 week Primal Advice 10-01-2022 with unlimited capasity.xlsx'\")"
      ],
      "metadata": {
        "id": "YKIvDu1vLogv"
      },
      "execution_count": null,
      "outputs": []
    },
    {
      "cell_type": "markdown",
      "source": [
        "### change dtypes"
      ],
      "metadata": {
        "id": "Q83S0qTatRiB"
      }
    },
    {
      "cell_type": "code",
      "source": [
        "all_df.columns"
      ],
      "metadata": {
        "id": "Rl05yOuEvbuq",
        "colab": {
          "base_uri": "https://localhost:8080/"
        },
        "outputId": "7d27a8ce-4125-4bf5-b826-e72a441e4bf6"
      },
      "execution_count": null,
      "outputs": [
        {
          "output_type": "execute_result",
          "data": {
            "text/plain": [
              "Index(['Date', 'PrimalID', 'Family', 'PrimalName', 'Primal_kgs_for_production',\n",
              "       'Proposed_Purchases', 'Confirmed_Purchases', 'Low_Codes', 'Op_Stock',\n",
              "       'Unmature_stock', 'Butcher_shop_Rq_', 'StockInDays', 'PARENT',\n",
              "       'Target_inventory', 'TargetInDays', 'WOW_code', 'Plant', 'sheet_name',\n",
              "       'source_date', 'file_name'],\n",
              "      dtype='object')"
            ]
          },
          "metadata": {},
          "execution_count": 13
        }
      ]
    },
    {
      "cell_type": "code",
      "source": [
        "#all_df.drop(columns='week', inplace=True)"
      ],
      "metadata": {
        "id": "FmLB3EQlXwCF",
        "colab": {
          "base_uri": "https://localhost:8080/",
          "height": 311
        },
        "outputId": "7f99eba8-389b-4a75-ba87-eda0da43c173"
      },
      "execution_count": null,
      "outputs": [
        {
          "output_type": "error",
          "ename": "KeyError",
          "evalue": "ignored",
          "traceback": [
            "\u001b[0;31m---------------------------------------------------------------------------\u001b[0m",
            "\u001b[0;31mKeyError\u001b[0m                                  Traceback (most recent call last)",
            "\u001b[0;32m<ipython-input-14-600968d4ef13>\u001b[0m in \u001b[0;36m<module>\u001b[0;34m()\u001b[0m\n\u001b[0;32m----> 1\u001b[0;31m \u001b[0mall_df\u001b[0m\u001b[0;34m.\u001b[0m\u001b[0mdrop\u001b[0m\u001b[0;34m(\u001b[0m\u001b[0mcolumns\u001b[0m\u001b[0;34m=\u001b[0m\u001b[0;34m'week'\u001b[0m\u001b[0;34m,\u001b[0m \u001b[0minplace\u001b[0m\u001b[0;34m=\u001b[0m\u001b[0;32mTrue\u001b[0m\u001b[0;34m)\u001b[0m\u001b[0;34m\u001b[0m\u001b[0;34m\u001b[0m\u001b[0m\n\u001b[0m",
            "\u001b[0;32m/usr/local/lib/python3.7/dist-packages/pandas/util/_decorators.py\u001b[0m in \u001b[0;36mwrapper\u001b[0;34m(*args, **kwargs)\u001b[0m\n\u001b[1;32m    309\u001b[0m                     \u001b[0mstacklevel\u001b[0m\u001b[0;34m=\u001b[0m\u001b[0mstacklevel\u001b[0m\u001b[0;34m,\u001b[0m\u001b[0;34m\u001b[0m\u001b[0;34m\u001b[0m\u001b[0m\n\u001b[1;32m    310\u001b[0m                 )\n\u001b[0;32m--> 311\u001b[0;31m             \u001b[0;32mreturn\u001b[0m \u001b[0mfunc\u001b[0m\u001b[0;34m(\u001b[0m\u001b[0;34m*\u001b[0m\u001b[0margs\u001b[0m\u001b[0;34m,\u001b[0m \u001b[0;34m**\u001b[0m\u001b[0mkwargs\u001b[0m\u001b[0;34m)\u001b[0m\u001b[0;34m\u001b[0m\u001b[0;34m\u001b[0m\u001b[0m\n\u001b[0m\u001b[1;32m    312\u001b[0m \u001b[0;34m\u001b[0m\u001b[0m\n\u001b[1;32m    313\u001b[0m         \u001b[0;32mreturn\u001b[0m \u001b[0mwrapper\u001b[0m\u001b[0;34m\u001b[0m\u001b[0;34m\u001b[0m\u001b[0m\n",
            "\u001b[0;32m/usr/local/lib/python3.7/dist-packages/pandas/core/frame.py\u001b[0m in \u001b[0;36mdrop\u001b[0;34m(self, labels, axis, index, columns, level, inplace, errors)\u001b[0m\n\u001b[1;32m   4911\u001b[0m             \u001b[0mlevel\u001b[0m\u001b[0;34m=\u001b[0m\u001b[0mlevel\u001b[0m\u001b[0;34m,\u001b[0m\u001b[0;34m\u001b[0m\u001b[0;34m\u001b[0m\u001b[0m\n\u001b[1;32m   4912\u001b[0m             \u001b[0minplace\u001b[0m\u001b[0;34m=\u001b[0m\u001b[0minplace\u001b[0m\u001b[0;34m,\u001b[0m\u001b[0;34m\u001b[0m\u001b[0;34m\u001b[0m\u001b[0m\n\u001b[0;32m-> 4913\u001b[0;31m             \u001b[0merrors\u001b[0m\u001b[0;34m=\u001b[0m\u001b[0merrors\u001b[0m\u001b[0;34m,\u001b[0m\u001b[0;34m\u001b[0m\u001b[0;34m\u001b[0m\u001b[0m\n\u001b[0m\u001b[1;32m   4914\u001b[0m         )\n\u001b[1;32m   4915\u001b[0m \u001b[0;34m\u001b[0m\u001b[0m\n",
            "\u001b[0;32m/usr/local/lib/python3.7/dist-packages/pandas/core/generic.py\u001b[0m in \u001b[0;36mdrop\u001b[0;34m(self, labels, axis, index, columns, level, inplace, errors)\u001b[0m\n\u001b[1;32m   4148\u001b[0m         \u001b[0;32mfor\u001b[0m \u001b[0maxis\u001b[0m\u001b[0;34m,\u001b[0m \u001b[0mlabels\u001b[0m \u001b[0;32min\u001b[0m \u001b[0maxes\u001b[0m\u001b[0;34m.\u001b[0m\u001b[0mitems\u001b[0m\u001b[0;34m(\u001b[0m\u001b[0;34m)\u001b[0m\u001b[0;34m:\u001b[0m\u001b[0;34m\u001b[0m\u001b[0;34m\u001b[0m\u001b[0m\n\u001b[1;32m   4149\u001b[0m             \u001b[0;32mif\u001b[0m \u001b[0mlabels\u001b[0m \u001b[0;32mis\u001b[0m \u001b[0;32mnot\u001b[0m \u001b[0;32mNone\u001b[0m\u001b[0;34m:\u001b[0m\u001b[0;34m\u001b[0m\u001b[0;34m\u001b[0m\u001b[0m\n\u001b[0;32m-> 4150\u001b[0;31m                 \u001b[0mobj\u001b[0m \u001b[0;34m=\u001b[0m \u001b[0mobj\u001b[0m\u001b[0;34m.\u001b[0m\u001b[0m_drop_axis\u001b[0m\u001b[0;34m(\u001b[0m\u001b[0mlabels\u001b[0m\u001b[0;34m,\u001b[0m \u001b[0maxis\u001b[0m\u001b[0;34m,\u001b[0m \u001b[0mlevel\u001b[0m\u001b[0;34m=\u001b[0m\u001b[0mlevel\u001b[0m\u001b[0;34m,\u001b[0m \u001b[0merrors\u001b[0m\u001b[0;34m=\u001b[0m\u001b[0merrors\u001b[0m\u001b[0;34m)\u001b[0m\u001b[0;34m\u001b[0m\u001b[0;34m\u001b[0m\u001b[0m\n\u001b[0m\u001b[1;32m   4151\u001b[0m \u001b[0;34m\u001b[0m\u001b[0m\n\u001b[1;32m   4152\u001b[0m         \u001b[0;32mif\u001b[0m \u001b[0minplace\u001b[0m\u001b[0;34m:\u001b[0m\u001b[0;34m\u001b[0m\u001b[0;34m\u001b[0m\u001b[0m\n",
            "\u001b[0;32m/usr/local/lib/python3.7/dist-packages/pandas/core/generic.py\u001b[0m in \u001b[0;36m_drop_axis\u001b[0;34m(self, labels, axis, level, errors)\u001b[0m\n\u001b[1;32m   4183\u001b[0m                 \u001b[0mnew_axis\u001b[0m \u001b[0;34m=\u001b[0m \u001b[0maxis\u001b[0m\u001b[0;34m.\u001b[0m\u001b[0mdrop\u001b[0m\u001b[0;34m(\u001b[0m\u001b[0mlabels\u001b[0m\u001b[0;34m,\u001b[0m \u001b[0mlevel\u001b[0m\u001b[0;34m=\u001b[0m\u001b[0mlevel\u001b[0m\u001b[0;34m,\u001b[0m \u001b[0merrors\u001b[0m\u001b[0;34m=\u001b[0m\u001b[0merrors\u001b[0m\u001b[0;34m)\u001b[0m\u001b[0;34m\u001b[0m\u001b[0;34m\u001b[0m\u001b[0m\n\u001b[1;32m   4184\u001b[0m             \u001b[0;32melse\u001b[0m\u001b[0;34m:\u001b[0m\u001b[0;34m\u001b[0m\u001b[0;34m\u001b[0m\u001b[0m\n\u001b[0;32m-> 4185\u001b[0;31m                 \u001b[0mnew_axis\u001b[0m \u001b[0;34m=\u001b[0m \u001b[0maxis\u001b[0m\u001b[0;34m.\u001b[0m\u001b[0mdrop\u001b[0m\u001b[0;34m(\u001b[0m\u001b[0mlabels\u001b[0m\u001b[0;34m,\u001b[0m \u001b[0merrors\u001b[0m\u001b[0;34m=\u001b[0m\u001b[0merrors\u001b[0m\u001b[0;34m)\u001b[0m\u001b[0;34m\u001b[0m\u001b[0;34m\u001b[0m\u001b[0m\n\u001b[0m\u001b[1;32m   4186\u001b[0m             \u001b[0mresult\u001b[0m \u001b[0;34m=\u001b[0m \u001b[0mself\u001b[0m\u001b[0;34m.\u001b[0m\u001b[0mreindex\u001b[0m\u001b[0;34m(\u001b[0m\u001b[0;34m**\u001b[0m\u001b[0;34m{\u001b[0m\u001b[0maxis_name\u001b[0m\u001b[0;34m:\u001b[0m \u001b[0mnew_axis\u001b[0m\u001b[0;34m}\u001b[0m\u001b[0;34m)\u001b[0m\u001b[0;34m\u001b[0m\u001b[0;34m\u001b[0m\u001b[0m\n\u001b[1;32m   4187\u001b[0m \u001b[0;34m\u001b[0m\u001b[0m\n",
            "\u001b[0;32m/usr/local/lib/python3.7/dist-packages/pandas/core/indexes/base.py\u001b[0m in \u001b[0;36mdrop\u001b[0;34m(self, labels, errors)\u001b[0m\n\u001b[1;32m   6015\u001b[0m         \u001b[0;32mif\u001b[0m \u001b[0mmask\u001b[0m\u001b[0;34m.\u001b[0m\u001b[0many\u001b[0m\u001b[0;34m(\u001b[0m\u001b[0;34m)\u001b[0m\u001b[0;34m:\u001b[0m\u001b[0;34m\u001b[0m\u001b[0;34m\u001b[0m\u001b[0m\n\u001b[1;32m   6016\u001b[0m             \u001b[0;32mif\u001b[0m \u001b[0merrors\u001b[0m \u001b[0;34m!=\u001b[0m \u001b[0;34m\"ignore\"\u001b[0m\u001b[0;34m:\u001b[0m\u001b[0;34m\u001b[0m\u001b[0;34m\u001b[0m\u001b[0m\n\u001b[0;32m-> 6017\u001b[0;31m                 \u001b[0;32mraise\u001b[0m \u001b[0mKeyError\u001b[0m\u001b[0;34m(\u001b[0m\u001b[0;34mf\"{labels[mask]} not found in axis\"\u001b[0m\u001b[0;34m)\u001b[0m\u001b[0;34m\u001b[0m\u001b[0;34m\u001b[0m\u001b[0m\n\u001b[0m\u001b[1;32m   6018\u001b[0m             \u001b[0mindexer\u001b[0m \u001b[0;34m=\u001b[0m \u001b[0mindexer\u001b[0m\u001b[0;34m[\u001b[0m\u001b[0;34m~\u001b[0m\u001b[0mmask\u001b[0m\u001b[0;34m]\u001b[0m\u001b[0;34m\u001b[0m\u001b[0;34m\u001b[0m\u001b[0m\n\u001b[1;32m   6019\u001b[0m         \u001b[0;32mreturn\u001b[0m \u001b[0mself\u001b[0m\u001b[0;34m.\u001b[0m\u001b[0mdelete\u001b[0m\u001b[0;34m(\u001b[0m\u001b[0mindexer\u001b[0m\u001b[0;34m)\u001b[0m\u001b[0;34m\u001b[0m\u001b[0;34m\u001b[0m\u001b[0m\n",
            "\u001b[0;31mKeyError\u001b[0m: \"['week'] not found in axis\""
          ]
        }
      ]
    },
    {
      "cell_type": "markdown",
      "source": [
        "### save to bigquery"
      ],
      "metadata": {
        "id": "xzo6LPA8mt2G"
      }
    },
    {
      "cell_type": "code",
      "source": [
        "def float2str(d):\n",
        "  return ['' if np.isnan(x) else str(int(x)) for x in d]\n",
        "all_df['WOW_code'] = float2str(all_df['WOW_code'])\n",
        "all_df['PrimalID'] = float2str(all_df['PrimalID'])"
      ],
      "metadata": {
        "id": "2KzPw3zXtS84"
      },
      "execution_count": null,
      "outputs": []
    },
    {
      "cell_type": "code",
      "source": [
        "pd.io.gbq.to_gbq(all_df, 'hilton.hilton_primaladvice_16weeks', 'gcp-wow-pvc-grnstck-prod', chunksize=100000, reauth=False, if_exists='replace')"
      ],
      "metadata": {
        "id": "oadte9r7ldKH",
        "colab": {
          "base_uri": "https://localhost:8080/"
        },
        "outputId": "51af7cb5-36bd-40c7-b956-9db44d7acdf1"
      },
      "execution_count": null,
      "outputs": [
        {
          "output_type": "stream",
          "name": "stderr",
          "text": [
            "32it [06:50, 12.82s/it]\n"
          ]
        }
      ]
    }
  ]
}